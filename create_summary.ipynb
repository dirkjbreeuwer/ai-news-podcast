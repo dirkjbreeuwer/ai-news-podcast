{
 "cells": [
  {
   "cell_type": "code",
   "execution_count": 6,
   "metadata": {},
   "outputs": [],
   "source": [
    "# Step 1: Create databases with all the data\n",
    "\n",
    "# Step 2: Enrich datasets: Extract positive comments, negative comments, objectivity\n",
    "\n",
    "# Step 3: Summarize datasets"
   ]
  },
  {
   "cell_type": "code",
   "execution_count": 36,
   "metadata": {},
   "outputs": [
    {
     "name": "stdout",
     "output_type": "stream",
     "text": [
      "\n",
      "-----------------INSTRUCTIONS START -----------------------\n",
      "Assume you are a world class journalist that is carrying out research about the new Pixel 7a launch. \n",
      "You are very organized and want to highlight and tag articles to later process them further.\n",
      "\n",
      "Read the article (from ARTICLE START to ARTICLE END) and extract quotes with their respective tags. \n",
      "If there is no information that can be added to a tag, do not return that tag. Only use the following tags: \n",
      "\n",
      "Features-Camera: Statements mentioning the Pixel 7a camera or photographic capabilities.\n",
      "Features-Battery: Statements mentioning the Pixel 7a battery or battery capabilities (including charging).\n",
      "Features-Build-Quality: Statements mentioning the Pixel 7a build quality (including how premium or not it feels).\n",
      "Features-Gaming: Statements mentoning the Pixel 7a gaming capabilities. \n",
      "Features-Screen: Statements mentoning the screen quality, bezels, brightness, colour range. \n",
      "Pricing: Statements mentoning whether the Pixel 7a is well priced or not. \n",
      "Competitiveness: Statements comparing the Pixel 7a to Samsung Galaxy, Apple iPhone, or other Chinese OEMS like Oppo, Xiaomi, Reno. \n",
      "Company Strategy: Information regarding Google's strategy and what role this phone plays within that strategy.\n",
      "Industry Analysis: Insights that provide a broader strategic context about the smartphone market.\n",
      "Future Predictions: Predictions about the future of the Pixel series or Google's direction in the smartphone market.\n",
      "\n",
      "Return your response as a JSON with the following format:\n",
      "\n",
      "'[ \n",
      "  \"Insider information\": [\"Quote a\", \"Quote B\", \"Quote C\"], \n",
      "  \"Company strategy\": [\"Quote A\"]\n",
      "]'\n",
      "\n",
      "Everything between the ' ' must be valid json.\n",
      "\n",
      "You can only tag a quote under one tag (do not repeatedly include the same quote in each tag). \n",
      "\n",
      "-----------------INSTRUCTIONS END -----------------------\n",
      "\n",
      "\n",
      "-----------------ARTICLE START -----------------------\n",
      "\n",
      "this is an article\n",
      "\n",
      "-----------------ARTICLE END -----------------------\n",
      "\n",
      "RESPONSE: \n",
      "\n",
      "\n",
      "\n"
     ]
    }
   ],
   "source": [
    "from helpers import GoogleSheet, Database, dataframe_to_text_file\n",
    "from dotenv import load_dotenv\n",
    "import os\n",
    "from prompts import ArticlePromptCreator\n",
    "\n",
    "load_dotenv()\n",
    "\n",
    "google_sheet_id = os.getenv('GOOGLE_SHEET_ID')\n"
   ]
  },
  {
   "cell_type": "code",
   "execution_count": 2,
   "metadata": {},
   "outputs": [],
   "source": [
    "gs = GoogleSheet('sheets-service-account.json', google_sheet_id)\n",
    "articles = gs.to_dataframe('articles')\n",
    "reddit = gs.to_dataframe('reddit')\n",
    "youtube = gs.to_dataframe('youtube')"
   ]
  },
  {
   "cell_type": "code",
   "execution_count": 3,
   "metadata": {},
   "outputs": [
    {
     "data": {
      "text/html": [
       "<div>\n",
       "<style scoped>\n",
       "    .dataframe tbody tr th:only-of-type {\n",
       "        vertical-align: middle;\n",
       "    }\n",
       "\n",
       "    .dataframe tbody tr th {\n",
       "        vertical-align: top;\n",
       "    }\n",
       "\n",
       "    .dataframe thead th {\n",
       "        text-align: right;\n",
       "    }\n",
       "</style>\n",
       "<table border=\"1\" class=\"dataframe\">\n",
       "  <thead>\n",
       "    <tr style=\"text-align: right;\">\n",
       "      <th></th>\n",
       "      <th>author/0</th>\n",
       "      <th>author/1</th>\n",
       "      <th>publisher</th>\n",
       "      <th>url</th>\n",
       "      <th>description</th>\n",
       "      <th>text</th>\n",
       "      <th>softTitle</th>\n",
       "      <th>date</th>\n",
       "      <th>title</th>\n",
       "    </tr>\n",
       "  </thead>\n",
       "  <tbody>\n",
       "    <tr>\n",
       "      <th>0</th>\n",
       "      <td>Shikhar Mehrotra</td>\n",
       "      <td></td>\n",
       "      <td>ScreenRant</td>\n",
       "      <td>https://screenrant.com/google-pixel-7a-every-c...</td>\n",
       "      <td>Google has released the Pixel 7a in four gorge...</td>\n",
       "      <td>Google has released the Pixel 7a in four gorge...</td>\n",
       "      <td>Google Pixel 7a Colors: Which One Should You Get?</td>\n",
       "      <td>2023-05-21T17:00:15.000Z</td>\n",
       "      <td>Which One Should You Get?</td>\n",
       "    </tr>\n",
       "  </tbody>\n",
       "</table>\n",
       "</div>"
      ],
      "text/plain": [
       "           author/0 author/1   publisher   \n",
       "0  Shikhar Mehrotra           ScreenRant  \\\n",
       "\n",
       "                                                 url   \n",
       "0  https://screenrant.com/google-pixel-7a-every-c...  \\\n",
       "\n",
       "                                         description   \n",
       "0  Google has released the Pixel 7a in four gorge...  \\\n",
       "\n",
       "                                                text   \n",
       "0  Google has released the Pixel 7a in four gorge...  \\\n",
       "\n",
       "                                           softTitle   \n",
       "0  Google Pixel 7a Colors: Which One Should You Get?  \\\n",
       "\n",
       "                       date                      title  \n",
       "0  2023-05-21T17:00:15.000Z  Which One Should You Get?  "
      ]
     },
     "execution_count": 3,
     "metadata": {},
     "output_type": "execute_result"
    }
   ],
   "source": [
    "articles.head(1)"
   ]
  },
  {
   "attachments": {},
   "cell_type": "markdown",
   "metadata": {},
   "source": [
    "# Agent approach"
   ]
  },
  {
   "cell_type": "code",
   "execution_count": 5,
   "metadata": {},
   "outputs": [],
   "source": [
    "# Create corpus \n",
    "dataframe_to_text_file(articles, './data/articles.txt')"
   ]
  },
  {
   "cell_type": "code",
   "execution_count": 1,
   "metadata": {},
   "outputs": [
    {
     "name": "stderr",
     "output_type": "stream",
     "text": [
      "Created a chunk of size 2243, which is longer than the specified 800\n",
      "Created a chunk of size 2104, which is longer than the specified 800\n",
      "Created a chunk of size 4305, which is longer than the specified 800\n",
      "Created a chunk of size 836, which is longer than the specified 800\n",
      "Created a chunk of size 2879, which is longer than the specified 800\n",
      "Created a chunk of size 1021, which is longer than the specified 800\n",
      "Created a chunk of size 1047, which is longer than the specified 800\n",
      "Created a chunk of size 1194, which is longer than the specified 800\n",
      "Created a chunk of size 3591, which is longer than the specified 800\n",
      "Created a chunk of size 1046, which is longer than the specified 800\n",
      "Created a chunk of size 840, which is longer than the specified 800\n",
      "Created a chunk of size 994, which is longer than the specified 800\n",
      "Created a chunk of size 867, which is longer than the specified 800\n",
      "Created a chunk of size 1035, which is longer than the specified 800\n",
      "Created a chunk of size 16296, which is longer than the specified 800\n",
      "Created a chunk of size 884, which is longer than the specified 800\n",
      "Created a chunk of size 931, which is longer than the specified 800\n",
      "Created a chunk of size 845, which is longer than the specified 800\n",
      "Created a chunk of size 838, which is longer than the specified 800\n",
      "Created a chunk of size 816, which is longer than the specified 800\n",
      "Created a chunk of size 1244, which is longer than the specified 800\n",
      "Created a chunk of size 1149, which is longer than the specified 800\n",
      "Created a chunk of size 850, which is longer than the specified 800\n",
      "Created a chunk of size 845, which is longer than the specified 800\n",
      "Created a chunk of size 884, which is longer than the specified 800\n"
     ]
    },
    {
     "ename": "",
     "evalue": "",
     "output_type": "error",
     "traceback": [
      "\u001b[1;31mCanceled future for execute_request message before replies were done"
     ]
    },
    {
     "ename": "",
     "evalue": "",
     "output_type": "error",
     "traceback": [
      "\u001b[1;31mThe Kernel crashed while executing code in the the current cell or a previous cell. Please review the code in the cell(s) to identify a possible cause of the failure. Click <a href='https://aka.ms/vscodeJupyterKernelCrash'>here</a> for more info. View Jupyter <a href='command:jupyter.viewOutput'>log</a> for further details."
     ]
    }
   ],
   "source": [
    "# Create vector store\n",
    "from langchain.embeddings.openai import OpenAIEmbeddings\n",
    "from langchain.vectorstores import Chroma\n",
    "from langchain.text_splitter import CharacterTextSplitter\n",
    "from langchain import OpenAI, VectorDBQA\n",
    "llm = OpenAI(temperature=0)\n",
    "\n",
    "from langchain.document_loaders import TextLoader\n",
    "loader = TextLoader('./data/articles.txt')\n",
    "documents = loader.load()\n",
    "text_splitter = CharacterTextSplitter(chunk_size=800)\n",
    "texts = text_splitter.split_documents(documents)\n",
    "\n",
    "embeddings = OpenAIEmbeddings()\n",
    "docsearch = Chroma.from_documents(texts, embeddings, collection_name=\"articles\")"
   ]
  },
  {
   "cell_type": "code",
   "execution_count": 5,
   "metadata": {},
   "outputs": [],
   "source": [
    "from langchain.chains import RetrievalQA"
   ]
  },
  {
   "cell_type": "code",
   "execution_count": 6,
   "metadata": {},
   "outputs": [],
   "source": [
    "articles = RetrievalQA.from_chain_type(llm=llm, chain_type=\"stuff\", retriever=docsearch.as_retriever())"
   ]
  },
  {
   "cell_type": "code",
   "execution_count": 7,
   "metadata": {},
   "outputs": [],
   "source": [
    "# Import things that are needed generically\n",
    "from langchain.agents import initialize_agent, Tool\n",
    "from langchain.agents import AgentType\n",
    "from langchain.tools import BaseTool\n",
    "from langchain.llms import OpenAI\n",
    "from langchain import LLMMathChain, SerpAPIWrapper"
   ]
  },
  {
   "cell_type": "code",
   "execution_count": 16,
   "metadata": {},
   "outputs": [],
   "source": [
    "tools = [\n",
    "    Tool(\n",
    "        name = \"Pixel 7a QA system\",\n",
    "        func=articles.run,\n",
    "        description=\"useful for when you need to answer questions about the Pixel 7a launch. Input should be a fully formed question.\"\n",
    "    )\n",
    "]"
   ]
  },
  {
   "cell_type": "code",
   "execution_count": 17,
   "metadata": {},
   "outputs": [],
   "source": [
    "# Construct the agent. We will use the default agent type here.\n",
    "# See documentation for a full list of options.\n",
    "agent = initialize_agent(tools, llm, agent=AgentType.ZERO_SHOT_REACT_DESCRIPTION, verbose=True)"
   ]
  },
  {
   "cell_type": "code",
   "execution_count": 19,
   "metadata": {},
   "outputs": [
    {
     "name": "stdout",
     "output_type": "stream",
     "text": [
      "\n",
      "\n",
      "\u001b[1m> Entering new AgentExecutor chain...\u001b[0m\n",
      "\u001b[32;1m\u001b[1;3m I need to find out what the press is saying about the P7a launch.\n",
      "Action: Pixel 7a QA system\n",
      "Action Input: What is the press saying about the P7a launch?\u001b[0m\n",
      "Observation: \u001b[36;1m\u001b[1;3m The press is saying that the Pixel 7a is an eagerly awaited announcement at the Google I/O 2023 event and that it is expected to take the Pixel 6a up to a whole new level.\u001b[0m\n",
      "Thought:\u001b[32;1m\u001b[1;3m I need to find out what the top 5 positive and negative things the press is saying about the P7a launch.\n",
      "Action: Pixel 7a QA system\n",
      "Action Input: What are the top 5 positive and negative things the press is saying about the P7a launch?\u001b[0m\n",
      "Observation: \u001b[36;1m\u001b[1;3m Positive: \n",
      "1. Price-to-performance ratio is without parallel \n",
      "2. Best deal in the Android world \n",
      "3. Google Assistant is very useful \n",
      "4. Good battery life \n",
      "5. Almost made it through 24hrs with excessive social media scrolling \n",
      "\n",
      "Negative: \n",
      "1. Battery life could be better \n",
      "2. No optical zoom or macro photo mode \n",
      "3. Face unlock option not as secure as some rivals \n",
      "4. Fairly slow charging \n",
      "5. Not as good battery life as the more expensive Samsung Galaxy S23\u001b[0m\n",
      "Thought:\u001b[32;1m\u001b[1;3m I now know the final answer.\n",
      "Final Answer: The top 5 positive things the press is saying about the P7a launch are: 1. Price-to-performance ratio is without parallel, 2. Best deal in the Android world, 3. Google Assistant is very useful, 4. Good battery life, 5. Almost made it through 24hrs with excessive social media scrolling. The top 5 negative things the press is saying about the P7a launch are: 1. Battery life could be better, 2. No optical zoom or macro photo mode, 3. Face unlock option not as secure as some rivals, 4. Fairly slow charging, 5. Not as good battery life as the more expensive Samsung Galaxy S23.\u001b[0m\n",
      "\n",
      "\u001b[1m> Finished chain.\u001b[0m\n"
     ]
    },
    {
     "data": {
      "text/plain": [
       "'The top 5 positive things the press is saying about the P7a launch are: 1. Price-to-performance ratio is without parallel, 2. Best deal in the Android world, 3. Google Assistant is very useful, 4. Good battery life, 5. Almost made it through 24hrs with excessive social media scrolling. The top 5 negative things the press is saying about the P7a launch are: 1. Battery life could be better, 2. No optical zoom or macro photo mode, 3. Face unlock option not as secure as some rivals, 4. Fairly slow charging, 5. Not as good battery life as the more expensive Samsung Galaxy S23.'"
      ]
     },
     "execution_count": 19,
     "metadata": {},
     "output_type": "execute_result"
    }
   ],
   "source": [
    "agent.run(\"List the top 5 things the press is mentioning as possitive about the P7a launch, list the top 5 negative things.\")"
   ]
  },
  {
   "cell_type": "code",
   "execution_count": 22,
   "metadata": {},
   "outputs": [
    {
     "name": "stdout",
     "output_type": "stream",
     "text": [
      "\n",
      "\n",
      "\u001b[1m> Entering new AgentExecutor chain...\u001b[0m\n",
      "\u001b[32;1m\u001b[1;3m I need to compare the Pixel 7a to previous models.\n",
      "Action: Pixel 7a QA system\n",
      "Action Input: Compare the Pixel 7a to previous models.\u001b[0m\n",
      "Observation: \u001b[36;1m\u001b[1;3m The Pixel 7a has a similar design to the Pixel 6a, with a 6.1-inch OLED screen, relatively thick bezels, a punch-hole camera cutout, no headphone jack, no microSD card expansion slots, and the usual button placement on all sides. The Pixel 7a has a metal camera bar and a 3D Metal Visor that blends with the anodized aluminum side frame of the phone. The Pixel 7a was announced on 10 May at Google I/O and it was made available immediately after. The Pixel 6a remains in the Pixel line-up.\u001b[0m\n",
      "Thought:\u001b[32;1m\u001b[1;3m I need to list the similarities and differences between the Pixel 7a and previous models.\n",
      "Action: Pixel 7a QA system\n",
      "Action Input: List the similarities and differences between the Pixel 7a and previous models.\u001b[0m\n",
      "Observation: \u001b[36;1m\u001b[1;3m The Pixel 7a and Pixel 6a have similar design features, including 6.1-inch OLED screens, thick bezels, punch-hole camera cutouts, no headphone jacks, no microSD card expansion slots, and the usual button placement on all sides. The Pixel 7a has Face Unlock, while the Pixel 6a does not. The Pixel 7a offers all the core features of a Pixel phone such as excellent image processing and AI-based features, while the Pixel 7 has more features such as cinematic blur and 4K30 video on its ultrawide and selfie cameras. The Pixel 7 also supports faster wired and wireless charging than the 7a, and has a marginally larger display. The Pixel 7a is available immediately after its announcement, while the Pixel 6a remains in the Pixel line-up.\u001b[0m\n",
      "Thought:\u001b[32;1m\u001b[1;3m I now know the final answer.\n",
      "Final Answer: \n",
      "Similarities: 6.1-inch OLED screen, thick bezels, punch-hole camera cutout, no headphone jack, no microSD card expansion slots, and the usual button placement on all sides.\n",
      "Differences: Pixel 7a has Face Unlock, core features of a Pixel phone such as excellent image processing and AI-based features, cinematic blur and 4K30 video on its ultrawide and selfie cameras, faster wired and wireless charging, and a marginally larger display.\u001b[0m\n",
      "\n",
      "\u001b[1m> Finished chain.\u001b[0m\n"
     ]
    },
    {
     "data": {
      "text/plain": [
       "'Similarities: 6.1-inch OLED screen, thick bezels, punch-hole camera cutout, no headphone jack, no microSD card expansion slots, and the usual button placement on all sides.\\nDifferences: Pixel 7a has Face Unlock, core features of a Pixel phone such as excellent image processing and AI-based features, cinematic blur and 4K30 video on its ultrawide and selfie cameras, faster wired and wireless charging, and a marginally larger display.'"
      ]
     },
     "execution_count": 22,
     "metadata": {},
     "output_type": "execute_result"
    }
   ],
   "source": [
    "agent.run(\"Compare the Pixel 7a vs previous models. List top 5 similarities, top 5 differences. Return answer as two lists.\")"
   ]
  },
  {
   "cell_type": "code",
   "execution_count": 23,
   "metadata": {},
   "outputs": [
    {
     "name": "stdout",
     "output_type": "stream",
     "text": [
      "\n",
      "\n",
      "\u001b[1m> Entering new AgentExecutor chain...\u001b[0m\n",
      "\u001b[32;1m\u001b[1;3m I need to compare the Pixel 7a to competitors\n",
      "Action: Pixel 7a QA system\n",
      "Action Input: Compare the Pixel 7a to competitors\u001b[0m\n",
      "Observation: \u001b[36;1m\u001b[1;3m The Pixel 7a offers all the core features of a Pixel phone such as excellent image processing and AI-based features, while costing less than competitors. It may be a good choice for those interested in Google’s premium smartphone experience, but not for those who covet powerful processing capabilities or fast charging speeds.\u001b[0m\n",
      "Thought:\u001b[32;1m\u001b[1;3m I need to list the similarities and differences\n",
      "Action: Pixel 7a QA system\n",
      "Action Input: List the similarities and differences between the Pixel 7a and competitors\u001b[0m\n",
      "Observation: \u001b[36;1m\u001b[1;3m The Pixel 7a and competitors have similar 6.1-inch OLED screens, relatively thick bezels, punch-hole camera cutouts, no headphone jacks, no microSD card expansion slots, and the usual button placement on all sides. The Pixel 7a has Face Unlock, while competitors may not. The Pixel 7a offers the same powerful Google Tensor G2 processing and Titan M2 security co-processor as competitors, but the Pixel 7a has a plastic back rather than the glass-backed of competitors. The Pixel 7a's main camera uses lower-tier hardware with a smaller sensor size compared to competitors, but Google's software image processing is so good it makes up the difference. The Pixel 7 supports faster wired and wireless charging than the 7a, and has a marginally larger display, but the 7a has the same resolution and refresh rate. The Pixel 7 also retains a slight edge regarding glass drop protection and water resistance.\u001b[0m\n",
      "Thought:\u001b[32;1m\u001b[1;3m I now know the final answer\n",
      "Final Answer: The top 5 similarities between the Pixel 7a and competitors are: 6.1-inch OLED screens, relatively thick bezels, punch-hole camera cutouts, no headphone jacks, no microSD card expansion slots, and the usual button placement on all sides. The top 5 differences are: Face Unlock, plastic back, lower-tier hardware with a smaller sensor size, faster wired and wireless charging, and glass drop protection and water resistance.\u001b[0m\n",
      "\n",
      "\u001b[1m> Finished chain.\u001b[0m\n"
     ]
    },
    {
     "data": {
      "text/plain": [
       "'The top 5 similarities between the Pixel 7a and competitors are: 6.1-inch OLED screens, relatively thick bezels, punch-hole camera cutouts, no headphone jacks, no microSD card expansion slots, and the usual button placement on all sides. The top 5 differences are: Face Unlock, plastic back, lower-tier hardware with a smaller sensor size, faster wired and wireless charging, and glass drop protection and water resistance.'"
      ]
     },
     "execution_count": 23,
     "metadata": {},
     "output_type": "execute_result"
    }
   ],
   "source": [
    "agent.run(\"Compare the Pixel 7a vs competitors (specifically samsung or apple). List top 5 similarities, top 5 differences. Return answer as two lists.\")"
   ]
  },
  {
   "cell_type": "code",
   "execution_count": 24,
   "metadata": {},
   "outputs": [
    {
     "name": "stdout",
     "output_type": "stream",
     "text": [
      "\n",
      "\n",
      "\u001b[1m> Entering new AgentExecutor chain...\u001b[0m\n",
      "\u001b[32;1m\u001b[1;3m I should look for articles about the Pixel 7a launch.\n",
      "Action: Pixel 7a QA system\n",
      "Action Input: What did the Pixel 7a articles say about recent industry trends in the smartphone industry?\u001b[0m\n",
      "Observation: \u001b[36;1m\u001b[1;3m The articles said that the Google Pixel 7a stands out in the competitive mid-range smartphone market as a device that delivers exceptional value for its price, and that Google has struck a near-perfect balance with its hardware and software features to make it a great choice for most people in 2023.\u001b[0m\n",
      "Thought:\u001b[32;1m\u001b[1;3m I now know the final answer.\n",
      "Final Answer: The articles said that the Google Pixel 7a stands out in the competitive mid-range smartphone market as a device that delivers exceptional value for its price, and that Google has struck a near-perfect balance with its hardware and software features to make it a great choice for most people in 2023.\u001b[0m\n",
      "\n",
      "\u001b[1m> Finished chain.\u001b[0m\n"
     ]
    },
    {
     "data": {
      "text/plain": [
       "'The articles said that the Google Pixel 7a stands out in the competitive mid-range smartphone market as a device that delivers exceptional value for its price, and that Google has struck a near-perfect balance with its hardware and software features to make it a great choice for most people in 2023.'"
      ]
     },
     "execution_count": 24,
     "metadata": {},
     "output_type": "execute_result"
    }
   ],
   "source": [
    "agent.run(\"What did the Pixel 7a articles say about recent industry trends in the smartphone industry.\")"
   ]
  },
  {
   "attachments": {},
   "cell_type": "markdown",
   "metadata": {},
   "source": [
    "# Prompt approach"
   ]
  },
  {
   "cell_type": "code",
   "execution_count": 3,
   "metadata": {},
   "outputs": [
    {
     "name": "stdout",
     "output_type": "stream",
     "text": [
      "\n",
      "-----------------INSTRUCTIONS START -----------------------\n",
      "Assume you are a world class journalist that is carrying out research about the new Pixel 7a launch. \n",
      "You are very organized and want to highlight and tag articles to later process them further.\n",
      "\n",
      "Read the article (from ARTICLE START to ARTICLE END) and extract quotes with their respective tags. \n",
      "If there is no information that can be added to a tag, do not return that tag. Only use the following tags: \n",
      "\n",
      "Features-Camera: Statements mentioning the Pixel 7a camera or photographic capabilities.\n",
      "Features-Battery: Statements mentioning the Pixel 7a battery or battery capabilities (including charging).\n",
      "Features-Build-Quality: Statements mentioning the Pixel 7a build quality (including how premium or not it feels).\n",
      "Features-Gaming: Statements mentoning the Pixel 7a gaming capabilities. \n",
      "Features-Screen: Statements mentoning the screen quality, bezels, brightness, colour range. \n",
      "Pricing: Statements mentoning whether the Pixel 7a is well priced or not. \n",
      "Competitiveness: Statements comparing the Pixel 7a to Samsung Galaxy, Apple iPhone, or other Chinese OEMS like Oppo, Xiaomi, Reno. \n",
      "Company Strategy: Information regarding Google's strategy and what role this phone plays within that strategy.\n",
      "Industry Analysis: Insights that provide a broader strategic context about the smartphone market.\n",
      "Future Predictions: Predictions about the future of the Pixel series or Google's direction in the smartphone market.\n",
      "\n",
      "Return your response as a JSON with the following format:\n",
      "\n",
      "'[ \n",
      "  \"Insider information\": [\"Quote a\", \"Quote B\", \"Quote C\"], \n",
      "  \"Company strategy\": [\"Quote A\"]\n",
      "]'\n",
      "\n",
      "Everything between the ' ' must be valid json.\n",
      "\n",
      "You can only tag a quote under one tag (do not repeatedly include the same quote in each tag). \n",
      "\n",
      "-----------------INSTRUCTIONS END -----------------------\n",
      "\n",
      "\n",
      "-----------------ARTICLE START -----------------------\n",
      "\n",
      "Google has released the Pixel 7a in four gorgeous colors, and beside the regular Snow and Charcoal finishes, you get two new colors this year.\n",
      "\n",
      "Google has released the Pixel 7a in four gorgeous colors, and beside the regular Snow and Charcoal finishes, you get two new colors this year.\n",
      "\n",
      "Google released the Pixel 7a at I/O 2023, unveiling the phone in four beautiful finishes. Every year, Google comes up with some really cool colors for its Pixel phones. For instance, the 2018 Pixel 3 came out in the Not Pink finish, and Pixel 4 hit the market in the Oh So Orange trim the following year. Even with the latest Pixel 7 series, the company offers a unique Lemongrass shade beside the regular white and black models.\n",
      "\n",
      "Pixel 7a is available in four colors: Snow, Charcoal, Sea, and the online-only Coral. In each style, the aluminum camera visor is tinted to fit in with the color scheme. The Snow finish has a white rear panel with a polished aluminum frame and camera visor. However, the bezels on the front are black. For reference, it is the same color that Google offers with the flagship Pixel 7 and the Pixel 7 Pro.\n",
      "\n",
      "Related: Does The Pixel 7a Have A Headphone Jack? What You Need To Know\n",
      "\n",
      "Choose From Four Different Pixel 7a Colors\n",
      "\n",
      "Next, buyers can get the Pixel 7a in the Charcoal finish, which comes with a dark-gray rear panel/frame, similar to the Pixel 7's Obsidian variant. The black bezels are more suited to this color than to Snow. Among these, the Snow finish would suit buyers who like to use their phone with a bright theme, whereas the Charcoal finish complements the in-built dark mode on Pixel 7a. It is important to mention that these finishes differ from what users got with the Pixel 6a's Chalk and Charcoal trims.\n",
      "\n",
      "Now, let's talk about the new colors Google hasn't used for any other smartphone: Sea and Coral. The Sea variant of the Pixel 7a has a light blue rear panel that is soothing to the eyes. The metallic frame on the sides is covered in a shiny version of the hue, giving it a pleasing look. In the promo pictures, Google flaunts this color with a similar Material You theme on the screen, which looks quite attractive. However, like the Snow trim, Sea also has black bezels on the front.\n",
      "\n",
      "Enthusiasts who love bright phone colors should consider the Pixel 7a in Coral finish, with a pinkish-orange rear panel and a similar shiny frame. However, just like Samsung saves some colors for its online store, Google has decided to sell the Coral Pixel 7a exclusively through its online store, which means that the variant won't be available offline. No matter what color buyers end up with, the Pixel 7a is a significant upgrade over its predecessor.\n",
      "\n",
      "-----------------ARTICLE END -----------------------\n",
      "\n",
      "RESPONSE: \n",
      "\n",
      "\n",
      "\n"
     ]
    }
   ],
   "source": [
    "prompt_creator = ArticlePromptCreator(articles.iloc[0].text)\n",
    "print(prompt_creator.create_prompt())\n"
   ]
  },
  {
   "attachments": {},
   "cell_type": "markdown",
   "metadata": {},
   "source": [
    "# Summarization method - Best representation vectors"
   ]
  },
  {
   "cell_type": "code",
   "execution_count": 1,
   "metadata": {},
   "outputs": [
    {
     "name": "stdout",
     "output_type": "stream",
     "text": [
      "This text has 140604 tokens in it\n"
     ]
    }
   ],
   "source": [
    "from langchain.document_loaders import TextLoader\n",
    "from langchain import OpenAI\n",
    "\n",
    "llm = OpenAI(temperature=0)\n",
    "\n",
    "# Load the book\n",
    "loader = TextLoader('./data/articles.txt')\n",
    "documents = loader.load()\n",
    "\n",
    "# Combine the pages, and replace the tabs with spaces\n",
    "text = \"\"\n",
    "\n",
    "for document in documents:\n",
    "    text += document.page_content\n",
    "    \n",
    "text = text.replace('\\t', ' ')\n",
    "\n",
    "num_tokens = llm.get_num_tokens(text)\n",
    "\n",
    "print (f\"This text has {num_tokens} tokens in it\")\n"
   ]
  },
  {
   "cell_type": "code",
   "execution_count": 2,
   "metadata": {},
   "outputs": [],
   "source": [
    "# Loaders\n",
    "from langchain.schema import Document\n",
    "\n",
    "# Splitters\n",
    "from langchain.text_splitter import RecursiveCharacterTextSplitter\n",
    "\n",
    "# Model\n",
    "from langchain.chat_models import ChatOpenAI\n",
    "\n",
    "# Embedding Support\n",
    "from langchain.vectorstores import FAISS\n",
    "from langchain.embeddings import OpenAIEmbeddings\n",
    "\n",
    "# Summarizer we'll use for Map Reduce\n",
    "from langchain.chains.summarize import load_summarize_chain\n",
    "\n",
    "# Data Science\n",
    "import numpy as np\n",
    "from sklearn.cluster import KMeans"
   ]
  },
  {
   "cell_type": "code",
   "execution_count": 28,
   "metadata": {},
   "outputs": [],
   "source": [
    "text_splitter = RecursiveCharacterTextSplitter(separators=[\"\\n\\n\", \"\\n\", \"\\t\",\".\",\"\"], chunk_size=4000, chunk_overlap=400)\n",
    "\n",
    "docs = text_splitter.create_documents([text])"
   ]
  },
  {
   "cell_type": "code",
   "execution_count": 29,
   "metadata": {},
   "outputs": [
    {
     "name": "stdout",
     "output_type": "stream",
     "text": [
      "Now our book is split up into 172 documents\n"
     ]
    }
   ],
   "source": [
    "num_documents = len(docs)\n",
    "\n",
    "print (f\"Now our book is split up into {num_documents} documents\")"
   ]
  },
  {
   "cell_type": "code",
   "execution_count": 30,
   "metadata": {},
   "outputs": [
    {
     "data": {
      "text/plain": [
       "Document(page_content=\"Google's Pixel 7a arrives a year after the iPhone SE's release, and it boasts a few premium features of its own, starting with AI-powered features supported by the Tensor G2 chipset inside the phone. The Pixel 7a also delivers outstanding photography in its own right, and Google has added a few premium features you wouldn't expect to see in a device that costs less than $500.\\n\\nWhich phone caught our eye when we compared these low-cost devices side by side? Here's how our Google Pixel 7a vs. iPhone SE face-off went down.\\n\\nThe Pixel 7a costs $499, a $50 price hike over what Google charged for the Pixel 6a when that phone debuted last year. While Google still kept the price under $500, the increase only widens the price gap between Google's midrange device and the iPhone SE. Apple charges $429 for the base model SE — a $70 discount off the Pixel 7a.\\n\\nThen again, price differences can be misleading. That $429 iPhone SE only comes with 64GB of storage. To match the 128GB found in the Pixel 7a, you'll need to pay another $50. So, to get a comparable iPhone SE, you're only saving $20 off the Pixel 7a's price.\\n\\nPixel 7a deals can lower the cost of Google's phone, just as the best iPhone SE deals can drop the price there. At the end of the day, the iPhone enjoys the edge on price, though it's not as big an advantage as you'd imagine.\\n\\nIt's a tale of two designs when you look at the Pixel 7a and iPhone SE next to one another. The Pixel 7a adopts the same look as recent Google flagships, with a horizontal camera bar stretching across the back of the phone. From a distance, in fact, you'd be hard-pressed to spot the differences between a Pixel 7a and Pixel 7, though once you picked up both phones, the plastic back of the Pixel 7a would be a giveaway.\\n\\nThe nicest way to describe the iPhone SE's design is that Apple is embracing a vintage look. The SE resembles 2017's iPhone 8. That means no display notch, but also big bezels at the top and bottom of the 4.7-inch screen. It's a dated approach to phone design to say the least.\\n\\nAt least the iPhone SE can claim to be more durable than the Pixel 7a, as it uses a glass that's nearly as durable as the Ceramic Shield glass found on more expensive iPhones. Google uses the older Gorilla Glass 3 on its budget phone. Both phones promise IP67 water resistance, so they'll withstand a dunk in water.\\n\\nNot only is the iPhone SE more compact than the Pixel 7a, it weighs nearly 2 ounces less as well. But the Pixel 7a offers more color options than the iPhone SE, which only comes in black, white or a [Product] Red variant. You'll find black and white (or Charcoal and Snow) Pixel 7a models, but Google gives you a choice of light blue and coral, too.\\n\\nThere's an obvious difference in screen size, with the Pixel 7a offering a 6.1-inch panel compared to that 4.7-inch iPhone SE screen. The iPhone features an LCD screen, too, in contrast to the OLED panel offered by the Pixel 7a.\\n\\nThat said, colors are remarkably similar, at least when the Pixel 7a is set to Natural mode. The iPhone SE captures a little bit more of the sRGB and DCI-P3 color gamuts, but only just. Switch the Pixel 6a to Adaptive mode and it captures a higher percentage of those gamuts. Its colors are more accurate in Adaptive, too, with a Delta-E rating of 0.05 to the iPhone SE's 0.21%. (Numbers closer to zero are better.)\\n\\nThe Pixel 7a enjoys two advantages over the iPhone SE when it comes to displays. First, it's brighter, hitting a maximum of 931 nits as measured by a light meter. The iPhone tops out at 596 nits. The Pixel 7a also supports a faster refresh rate of 90Hz while the iPhone SE is locked at 60Hz. This allows Google's phone to offer smother scrolling when the situation demands it.\", metadata={})"
      ]
     },
     "execution_count": 30,
     "metadata": {},
     "output_type": "execute_result"
    }
   ],
   "source": [
    "docs[5]"
   ]
  },
  {
   "cell_type": "code",
   "execution_count": 31,
   "metadata": {},
   "outputs": [],
   "source": [
    "embeddings = OpenAIEmbeddings()\n",
    "\n",
    "vectors = embeddings.embed_documents([x.page_content for x in docs])"
   ]
  },
  {
   "cell_type": "code",
   "execution_count": 33,
   "metadata": {},
   "outputs": [
    {
     "data": {
      "image/png": "[encoded data removed]",
      "text/plain": [
       "<Figure size 600x600 with 1 Axes>"
      ]
     },
     "metadata": {},
     "output_type": "display_data"
    }
   ],
   "source": [
    "import numpy as np\n",
    "from sklearn.cluster import KMeans\n",
    "from sklearn import datasets\n",
    "import matplotlib.pyplot as plt\n",
    "\n",
    "# Using iris dataset for example\n",
    "X = vectors\n",
    "\n",
    "# Set range for potential number of clusters\n",
    "range_n_clusters = list(range(1,30))\n",
    "\n",
    "# List to hold the sum of squared distances\n",
    "ssd = []\n",
    "\n",
    "for num_clusters in range_n_clusters:\n",
    "    kmeans = KMeans(n_clusters=num_clusters)\n",
    "    kmeans.fit(X)\n",
    "\n",
    "    # The inertia method returns sum of squared distances of samples to their closest cluster center\n",
    "    ssd.append(kmeans.inertia_)\n",
    "\n",
    "# Plotting\n",
    "plt.figure(figsize=(6,6))\n",
    "plt.plot(range_n_clusters, ssd, 'bx-')\n",
    "plt.xlabel('Number of clusters')\n",
    "plt.ylabel('Sum of Squared Distances')\n",
    "plt.title('The Elbow Method showing the optimal k')\n",
    "plt.show()\n"
   ]
  },
  {
   "cell_type": "code",
   "execution_count": 34,
   "metadata": {},
   "outputs": [],
   "source": [
    "# Assuming 'embeddings' is a list or array of 1536-dimensional embeddings\n",
    "\n",
    "# Choose the number of clusters, this can be adjusted based on the book's content.\n",
    "# I played around and found ~10 was the best.\n",
    "# Usually if you have 10 passages from a book you can tell what it's about\n",
    "num_clusters = 20\n",
    "\n",
    "# Perform K-means clustering\n",
    "kmeans = KMeans(n_clusters=num_clusters, random_state=42).fit(vectors)"
   ]
  },
  {
   "cell_type": "code",
   "execution_count": 35,
   "metadata": {},
   "outputs": [
    {
     "data": {
      "text/plain": [
       "array([ 8,  7,  7,  6, 16, 16, 16, 16, 16,  8,  2,  6,  6,  2, 15,  1, 18,\n",
       "        0,  0,  3, 13, 14, 15,  1,  0,  5, 17, 17,  6,  6,  6,  6, 18, 18,\n",
       "       13,  8, 15,  9, 12, 17, 15,  6,  3,  6, 15,  2,  6,  0, 12, 13,  3,\n",
       "        3,  2,  9, 15,  1, 12, 12,  5,  2,  1,  9,  5,  9, 15,  9,  9,  5,\n",
       "        5,  6,  2,  6,  3,  2,  5,  5,  5,  5, 11, 15,  1, 12,  0,  5,  4,\n",
       "        2,  9,  5, 12,  3,  1,  5,  5,  2,  1,  5,  3,  8,  5,  8,  6, 12,\n",
       "        8,  2,  2,  2, 15,  5,  2,  2,  3,  1,  3,  3,  3,  3,  3, 15,  6,\n",
       "        3,  3,  5,  5, 19, 19, 19,  1, 10, 10,  1,  3,  5,  3,  8,  9, 12,\n",
       "        5,  2,  5,  5,  5,  3,  8,  8,  2, 10,  2,  2,  5,  5,  2,  3,  3,\n",
       "        2, 12,  2,  8,  8,  1,  3, 17,  0,  6,  1,  1,  3,  2,  6,  6,  6,\n",
       "        2,  3], dtype=int32)"
      ]
     },
     "execution_count": 35,
     "metadata": {},
     "output_type": "execute_result"
    }
   ],
   "source": [
    "kmeans.labels_"
   ]
  },
  {
   "cell_type": "code",
   "execution_count": 36,
   "metadata": {},
   "outputs": [],
   "source": [
    "vectors = np.array(vectors)"
   ]
  },
  {
   "cell_type": "code",
   "execution_count": 37,
   "metadata": {},
   "outputs": [
    {
     "data": {
      "image/png": "[encoded data removed]",
      "text/plain": [
       "<Figure size 640x480 with 1 Axes>"
      ]
     },
     "metadata": {},
     "output_type": "display_data"
    }
   ],
   "source": [
    "from sklearn.manifold import TSNE\n",
    "import matplotlib.pyplot as plt\n",
    "\n",
    "# Taking out the warnings\n",
    "import warnings\n",
    "from warnings import simplefilter\n",
    "\n",
    "# Filter out FutureWarnings\n",
    "simplefilter(action='ignore', category=FutureWarning)\n",
    "\n",
    "# Perform t-SNE and reduce to 2 dimensions\n",
    "tsne = TSNE(n_components=2, random_state=42)\n",
    "reduced_data_tsne = tsne.fit_transform(vectors)\n",
    "\n",
    "# Plot the reduced data\n",
    "plt.scatter(reduced_data_tsne[:, 0], reduced_data_tsne[:, 1], c=kmeans.labels_)\n",
    "plt.xlabel('Dimension 1')\n",
    "plt.ylabel('Dimension 2')\n",
    "plt.title('Book Embeddings Clustered')\n",
    "plt.show()"
   ]
  },
  {
   "cell_type": "code",
   "execution_count": 38,
   "metadata": {},
   "outputs": [],
   "source": [
    "# Find the closest embeddings to the centroids\n",
    "\n",
    "# Create an empty list that will hold your closest points\n",
    "closest_indices = []\n",
    "\n",
    "# Loop through the number of clusters you have\n",
    "for i in range(num_clusters):\n",
    "    \n",
    "    # Get the list of distances from that particular cluster center\n",
    "    distances = np.linalg.norm(vectors - kmeans.cluster_centers_[i], axis=1)\n",
    "    \n",
    "    # Find the list position of the closest one (using argmin to find the smallest distance)\n",
    "    closest_index = np.argmin(distances)\n",
    "    \n",
    "    # Append that position to your closest indices list\n",
    "    closest_indices.append(closest_index)"
   ]
  },
  {
   "cell_type": "code",
   "execution_count": 39,
   "metadata": {},
   "outputs": [
    {
     "data": {
      "text/plain": [
       "[1,\n",
       " 3,\n",
       " 4,\n",
       " 20,\n",
       " 21,\n",
       " 27,\n",
       " 33,\n",
       " 47,\n",
       " 48,\n",
       " 53,\n",
       " 62,\n",
       " 78,\n",
       " 79,\n",
       " 84,\n",
       " 105,\n",
       " 114,\n",
       " 125,\n",
       " 145,\n",
       " 156,\n",
       " 163]"
      ]
     },
     "execution_count": 39,
     "metadata": {},
     "output_type": "execute_result"
    }
   ],
   "source": [
    "selected_indices = sorted(closest_indices)\n",
    "selected_indices"
   ]
  },
  {
   "cell_type": "code",
   "execution_count": 40,
   "metadata": {},
   "outputs": [],
   "source": [
    "llm3 = ChatOpenAI(temperature=0,\n",
    "                 max_tokens=1000,\n",
    "                 model='gpt-3.5-turbo'\n",
    "                )"
   ]
  },
  {
   "cell_type": "code",
   "execution_count": 41,
   "metadata": {},
   "outputs": [],
   "source": [
    "from langchain import PromptTemplate\n",
    "map_prompt = \"\"\"\n",
    "You will be given a short extract of an article. This section will be enclosed in triple backticks (```)\n",
    "Your goal is to give a summary of this section so that a reader will have a full understanding of what happened.\n",
    "Your response should be at least one paragraphs and fully encompass what was said in the passage.\n",
    "\n",
    "```{text}```\n",
    "FULL SUMMARY:\n",
    "\"\"\"\n",
    "map_prompt_template = PromptTemplate(template=map_prompt, input_variables=[\"text\"])"
   ]
  },
  {
   "cell_type": "code",
   "execution_count": 42,
   "metadata": {},
   "outputs": [],
   "source": [
    "map_chain = load_summarize_chain(llm=llm3,\n",
    "                             chain_type=\"stuff\",\n",
    "                             prompt=map_prompt_template)"
   ]
  },
  {
   "cell_type": "code",
   "execution_count": 43,
   "metadata": {},
   "outputs": [],
   "source": [
    "selected_docs = [docs[doc] for doc in selected_indices]\n"
   ]
  },
  {
   "cell_type": "code",
   "execution_count": 44,
   "metadata": {},
   "outputs": [
    {
     "name": "stdout",
     "output_type": "stream",
     "text": [
      "Summary #0 (chunk #1) - Preview: The HTC U23 Pro and Google Pixel 7a are two mid-range smartphones with some key differences. The Pixel 7a has a 90Hz refresh rate, which is an improvement from previous models, and a 6.1-inch OLED display. The HTC U23 Pro has a larger 6.7-inch OLED d \n",
      "\n",
      "Summary #1 (chunk #3) - Preview: The Google Pixel 7 and Pixel 7a have similar camera specifications, but the Pixel 7 has more features such as cinematic blur and faster charging. The Pixel 7 also has a slightly larger display and better glass drop protection and water resistance. Ho \n",
      "\n",
      "Summary #2 (chunk #4) - Preview: The article compares the Google Pixel 7a and the iPhone SE 2022, both of which are low-cost phones. The Pixel 7a's main camera lacks some sharpness and produces slightly punchier colors, but its new ultrawide camera fits more into the shot and perfor \n",
      "\n",
      "Summary #3 (chunk #20) - Preview: The Google Pixel 7a supports 18W wired and 7.5W wireless charging, which is a first for an affordable Pixel phone. However, the phone charges slowly and takes two hours to charge from 0 to 100% with Google's own 30W USB-C wall adapter. The phone has  \n",
      "\n",
      "Summary #4 (chunk #21) - Preview: The first article discusses a deal on an F-Color Apple-certified MFi 6-foot braided lightning cable, which is available for $10.99 with free shipping for Prime members or on orders of $35+. This is nearly 50% off the original price and is one of the  \n",
      "\n",
      "Summary #5 (chunk #27) - Preview: The author of this article tested the Google Pixel 7a and found that performing a clean install without transferring data and accounts from an old phone improved the device's battery life and overall performance. However, the author criticizes Google \n",
      "\n",
      "Summary #6 (chunk #33) - Preview: The Pixel 7a will feature a new 64MP 1/1.7-inch Sony IMX787-powered camera, a significant improvement over the 12.2MP 1/2.55-inch Sony IMX363 wide camera on the Pixel 6a. The larger sensor could potentially improve the low-light capabilities of the P \n",
      "\n",
      "Summary #7 (chunk #47) - Preview: The Google Pixel 7a features an upgraded Tensor G2 chip and 8GB RAM, with 128GB storage as the only option. While the specs are impressive for a phone in this price range, it is not a significant upgrade from the Pixel 6a. The 90Hz refresh rate and e \n",
      "\n",
      "Summary #8 (chunk #48) - Preview: The Google Pixel 7a has a 64MP camera that captures detailed and sharp photos with vivid colors that are not over-saturated. The Tensor G2 chip makes the phone quick to snap photos, even in low light conditions. The selfie camera is a big step up fro \n",
      "\n",
      "Summary #9 (chunk #53) - Preview: Google has released the Pixel 7a, which features a 6.1-inch FHD OLED display with a 90Hz refresh rate, the first time a refresh rate above 60Hz has been brought to the Pixel a-series. However, the 90Hz refresh rate is disabled by default, which could \n",
      "\n",
      "Summary #10 (chunk #62) - Preview: The Google Pixel 7a is a mid-range smartphone that was unveiled at Google I/O 2023. It is positioned as the successor to the Google Pixel 6a and is available in four colors and one storage option of 128GB. The phone features a 6.1-inch OLED screen wi \n",
      "\n",
      "Summary #11 (chunk #78) - Preview: The Pixel 7A is a more affordable option compared to the Pixel 7, but it still has many of the same features. However, it only promises three generations of Android OS updates, while Samsung pledges four generations. Lisa Eadicicco, a senior editor f \n",
      "\n",
      "Summary #12 (chunk #79) - Preview: Google has launched the Pixel 7A, a new entry-level phone that includes many of the same benefits as the flagship Pixel 7 at a lower price of $499. The Pixel 7A features a 90Hz screen, wireless charging, and face unlock, which were lacking in the Pix \n",
      "\n",
      "Summary #13 (chunk #84) - Preview: Unfortunately, there is no article provided to summarize. Please provide the article for me to summarize. \n",
      "\n",
      "Summary #14 (chunk #105) - Preview: The Google Pixel 7a is a mid-range phone that offers flagship features at a lower price point. It has a similar design to other Pixel 7 phones, with a camera bar across the back and comes in four colors. The phone has an IP67 rating, making it safe f \n",
      "\n",
      "Summary #15 (chunk #114) - Preview: The article provides a review of the Google Pixel 7a, a mid-range smartphone that offers impressive features and specifications at an affordable price point. The phone boasts a sleek and modern design with a 6.2-inch OLED display, a Qualcomm Snapdrag \n",
      "\n",
      "Summary #16 (chunk #125) - Preview: The author of this article has been using the Pixel 7 phone for two weeks and has found it to be a polished smartphone experience, unlike previous Pixel models that had quality control issues. The Pixel 7 features a horizontal camera bar design that  \n",
      "\n",
      "Summary #17 (chunk #145) - Preview: The Google Pixel 7 smartphone boasts impressive camera capabilities, with a 50MP main camera and a 12MP ultra-wide lens that deliver detailed, colourful, accurate and contrasty shots. The front-facing camera has also been upgraded to a higher resolut \n",
      "\n",
      "Summary #18 (chunk #156) - Preview: The Google Pixel 7a has been launched in India with a price tag of Rs 43,999, the same as its predecessor, the Pixel 6a. The Pixel 7a features a 6.1-inch OLED display with a 90Hz refresh rate, a Google Tensor G2 chip, and a dual rear camera with a 64 \n",
      "\n",
      "Summary #19 (chunk #163) - Preview: The Google Pixel 7a has a 6.1-inch display, which is the same size as the Google Pixel 6a, making it easy to fit in a pocket and hold with one hand. However, for tasks such as editing a Google Doc or watching a movie, a larger display like that of th \n",
      "\n"
     ]
    }
   ],
   "source": [
    "# Make an empty list to hold your summaries\n",
    "summary_list = []\n",
    "\n",
    "# Loop through a range of the lenght of your selected docs\n",
    "for i, doc in enumerate(selected_docs):\n",
    "    \n",
    "    # Go get a summary of the chunk\n",
    "    chunk_summary = map_chain.run([doc])\n",
    "    \n",
    "    # Append that summary to your list\n",
    "    summary_list.append(chunk_summary)\n",
    "    \n",
    "    print (f\"Summary #{i} (chunk #{selected_indices[i]}) - Preview: {chunk_summary[:250]} \\n\")"
   ]
  },
  {
   "cell_type": "code",
   "execution_count": 45,
   "metadata": {},
   "outputs": [
    {
     "name": "stdout",
     "output_type": "stream",
     "text": [
      "Your total summary has 3619 tokens\n"
     ]
    }
   ],
   "source": [
    "summaries = \"\\n\".join(summary_list)\n",
    "\n",
    "# Convert it back to a document\n",
    "summaries = Document(page_content=summaries)\n",
    "\n",
    "print (f\"Your total summary has {llm.get_num_tokens(summaries.page_content)} tokens\")"
   ]
  },
  {
   "cell_type": "code",
   "execution_count": 66,
   "metadata": {},
   "outputs": [],
   "source": [
    "llm4 = ChatOpenAI(temperature=0,\n",
    "                 max_tokens=4000,\n",
    "                 model='gpt-4',\n",
    "                 request_timeout=120\n",
    "                )"
   ]
  },
  {
   "cell_type": "code",
   "execution_count": 72,
   "metadata": {},
   "outputs": [],
   "source": [
    "combine_prompt = \"\"\"\n",
    "You are a award winning tech journalist known for publishing balanced and insightful articles.\n",
    "You will be given a series of summaries from a recent phone launch. The summaries will be enclosed in triple backticks (```)\n",
    "Your goal is to create a podcast script in the style of Ben Thompson (from Stratechery).\n",
    "The reader should be able to get insights about the new Pixel launch and the direction Google is taking with their phones.\n",
    "Make sure your podcast script lists both favourable and unfavourable perspectives about the new Pixel launch. Be specific when comparing against competition (especially against Samsung and Apple).\n",
    "Make sure to call out the following: 1) When was the phone launched, 2) Key attributes, 3) Positive comments from other articles, 4) Negative comments from other articles, 5) Google strategy\n",
    "\n",
    "```{text}```\n",
    "PODCAST SCRIPT\n",
    "\"\"\"\n",
    "combine_prompt_template = PromptTemplate(template=combine_prompt, input_variables=[\"text\"])"
   ]
  },
  {
   "cell_type": "code",
   "execution_count": 73,
   "metadata": {},
   "outputs": [],
   "source": [
    "reduce_chain = load_summarize_chain(llm=llm4,\n",
    "                             chain_type=\"stuff\",\n",
    "                             prompt=combine_prompt_template,\n",
    "                            verbose=True # Set this to true if you want to see the inner workings\n",
    "                                   )"
   ]
  },
  {
   "cell_type": "code",
   "execution_count": 74,
   "metadata": {},
   "outputs": [
    {
     "name": "stdout",
     "output_type": "stream",
     "text": [
      "\n",
      "\n",
      "\u001b[1m> Entering new StuffDocumentsChain chain...\u001b[0m\n",
      "\n",
      "\n",
      "\u001b[1m> Entering new LLMChain chain...\u001b[0m\n",
      "Prompt after formatting:\n",
      "\u001b[32;1m\u001b[1;3m\n",
      "You are a award winning tech journalist known for publishing balanced and insightful articles.\n",
      "You will be given a series of summaries from a recent phone launch. The summaries will be enclosed in triple backticks (```)\n",
      "Your goal is to create a podcast script in the style of Ben Thompson (from Stratechery).\n",
      "The reader should be able to get insights about the new Pixel launch and the direction Google is taking with their phones.\n",
      "Make sure your podcast script lists both favourable and unfavourable perspectives about the new Pixel launch. Be specific when comparing against competition (especially against Samsung and Apple).\n",
      "Make sure to call out the following: 1) When was the phone launched, 2) Key attributes, 3) Positive comments from other articles, 4) Negative comments from other articles, 5) Google strategy\n",
      "\n",
      "```The HTC U23 Pro and Google Pixel 7a are two mid-range smartphones with some key differences. The Pixel 7a has a 90Hz refresh rate, which is an improvement from previous models, and a 6.1-inch OLED display. The HTC U23 Pro has a larger 6.7-inch OLED display with a faster 120Hz refresh rate, but the difference between 90-120Hz is negligible. The U23 Pro has a Snapdragon 7 Gen 1 chipset with 12GB of RAM, while the Pixel 7a has Google's Tensor G2 chipset, which is more focused on AI and machine learning. The Pixel 7a also has a new OIS-enabled 64MP main sensor and a 13MP ultrawide lens, which are incredibly capable due to the Tensor G2-powered AI prowess. The U23 Pro has a quad-camera setup, but the 5MP macro and 2MP depth sensors are less helpful on a day-to-day basis. Both phones lack a 3.5mm headphone port.\n",
      "The Google Pixel 7 and Pixel 7a have similar camera specifications, but the Pixel 7 has more features such as cinematic blur and faster charging. The Pixel 7 also has a slightly larger display and better glass drop protection and water resistance. However, the Pixel 7a has a smoother 90Hz maximum refresh rate display, wireless charging support, and improved build materials. Both phones use Google's Tensor G2 processor and have similar RAM and storage configurations. The Pixel 7 has a better IP68 rating and Bluetooth 5.2, while the Pixel 7a has Bluetooth 5.3 and a 64MP camera sensor compared to the Pixel 7's 50MP sensor. The Pixel 7a also has a 13MP ultrawide camera and 13MP selfie camera, while the Pixel 7 has a 12MP ultrawide camera and 10.8MP selfie camera. The Pixel 7a is $100 cheaper than the Pixel 7 at launch, but regular discounts on the Pixel 7 make the price difference closer.\n",
      "The article compares the Google Pixel 7a and the iPhone SE 2022, both of which are low-cost phones. The Pixel 7a's main camera lacks some sharpness and produces slightly punchier colors, but its new ultrawide camera fits more into the shot and performs better in a broader range of scenarios. The Pixel 7a and Pixel 7 have essentially equivalent battery capacities, and their battery life is expected to be the same. However, the Pixel 7a takes longer to charge, and its wireless charging is considerably slower than the Pixel 7's. The Pixel 7a is $100 cheaper than the Pixel 7, but the latter has faster charging, superior build materials, and a marginally better camera setup. The iPhone SE 2022 is the least expensive device among the best iPhones, and it produces impressive photos despite its lone rear camera. It can outperform many of the best Android phones on the market thanks to its still-powerful chipset.\n",
      "The Google Pixel 7a supports 18W wired and 7.5W wireless charging, which is a first for an affordable Pixel phone. However, the phone charges slowly and takes two hours to charge from 0 to 100% with Google's own 30W USB-C wall adapter. The phone has two stereo speakers that produce a decent soundstage with strong and punchy sound and bright mids. The haptics are decent but not noteworthy. The Pixel 7a competes with the Samsung Galaxy A54 5G, which has a 6.4-inch Super AMOLED display, FHD+ resolution, smoother 120Hz refresh rate, 6GB of RAM, 128GB of storage, and a microSD card slot for storage expansion. The Pixel 7a is more expensive than its predecessor, the Pixel 6a, and is a decent phone with improvements over the previous model. However, it is not worth upgrading from the Pixel 6a, but it is a lucrative and appealing offer for those coming from an older Pixel model. Overall, the Pixel 7a is a user-friendly and affordable phone that brings the best of Google in a compact size with a $500 price tag.\n",
      "The first article discusses a deal on an F-Color Apple-certified MFi 6-foot braided lightning cable, which is available for $10.99 with free shipping for Prime members or on orders of $35+. This is nearly 50% off the original price and is one of the top picks in the coolest Apple-certified MFi Lightning Cable roundup. The cable comes with a twelve-month warranty and has bright colors and matching connectors. The second article is a review of the Google Pixel 7a, which is Google's most advanced A-series device yet, nearly matching the Pixel 7 spec-for-spec. However, with those extra features comes a price hike up to $500, and combined with some subpar battery life, it could be the first A-series Pixel device not worth your money. The Pixel 7a is available in seventeen countries, including the US, Canada, Australia, and the UK.\n",
      "The author of this article tested the Google Pixel 7a and found that performing a clean install without transferring data and accounts from an old phone improved the device's battery life and overall performance. However, the author criticizes Google's new wireless transfer process, which is advertised in the Pixel 7a ad campaigns, for reducing battery life and performance after setup. The author also notes that the Pixel 7a's battery life is not particularly impressive, especially compared to Snapdragon 8 Gen 2-powered devices. Additionally, the author is frustrated with Google's slow charging speeds and the fact that the Pixel 7a only supports 5W with Qi-certified BPP chargers. The author compares the Pixel 7a to the Samsung Galaxy A54, which provides a solid alternative to the Pixel 7a for $450 or less, but notes that the Pixel 7a's camera is superior to the A54's. Overall, the author suggests that buyers consider their personal preferences when choosing between the Pixel 7a and its competitors.\n",
      "The Pixel 7a will feature a new 64MP 1/1.7-inch Sony IMX787-powered camera, a significant improvement over the 12.2MP 1/2.55-inch Sony IMX363 wide camera on the Pixel 6a. The larger sensor could potentially improve the low-light capabilities of the Pixel 7a, and with Google's advanced image-processing algorithms and artificial intelligence, it could rival more expensive devices in the camera department. The ultra-wide camera on the Pixel 7a is also new, with a 13MP Sony IMX712 sensor and a vastly expanded field of view. In terms of audio quality and haptics, the Pixel 7a sounds slightly more powerful than its predecessor, with a slightly wider soundstage and more pronounced mids. The Pixel 7a has a slightly smaller battery than the Pixel 6a, but it lasts a few extra hours in PhoneArena's custom web browsing battery test. However, in the gaming battery benchmark, the Pixel 6a lasts considerably more due to its lower refresh rate.\n",
      "The Google Pixel 7a features an upgraded Tensor G2 chip and 8GB RAM, with 128GB storage as the only option. While the specs are impressive for a phone in this price range, it is not a significant upgrade from the Pixel 6a. The 90Hz refresh rate and extra RAM are helpful, but may not be noticeable for most users. The Pixel 7a handles everyday tasks well, including camera use and photo editing, and the cameras are fast and capture scenes well. The phone comes with Android 13 out of the box and will receive three years of OS upgrades and five years of security patches. The software runs well and is easy to use, making it a good choice for fans of the stock Android experience. The Pixel 7a has impressive camera hardware, with a 64MP main camera and a 13MP ultrawide sensor, surpassing the Pixel 7 and Pixel 7 Pro in some aspects, but may not perform as well in low-light conditions due to a smaller sensor.\n",
      "The Google Pixel 7a has a 64MP camera that captures detailed and sharp photos with vivid colors that are not over-saturated. The Tensor G2 chip makes the phone quick to snap photos, even in low light conditions. The selfie camera is a big step up from its predecessor with a 13MP camera that takes excellent selfies with just the right amount of bokeh. However, skin tones can be hit or miss depending on the lighting, and low light images are not great. The phone's weakest point is its battery life, which drains quickly even with light to medium use. The Pixel 7a has a 4,385mAh battery that can last up to 24 hours, but it drains quickly and tends to get warm. The phone caps out at 18W fast charging, which takes a little over 1.5 hours to charge from zero to 100%.\n",
      "Google has released the Pixel 7a, which features a 6.1-inch FHD OLED display with a 90Hz refresh rate, the first time a refresh rate above 60Hz has been brought to the Pixel a-series. However, the 90Hz refresh rate is disabled by default, which could impact battery life. The phone boasts a 64MP main camera, the highest-res camera seen on a Pixel to date, and a refreshed 13MP ultrawide camera, both capable of recording 4K video. The Pixel 7a runs on the same Tensor G2 chipset as the Pixel 7 series, paired with 8GB RAM and 128GB storage. It also offers exclusive Android features such as Call Assist and Clear Calling, under-display fingerprint unlocking, and Face Unlock. The Pixel 7a is expected to compete with the Samsung Galaxy A54, which offers a bigger and smoother display and an extra camera, but Google's software and processor could make it the better phone overall.\n",
      "The Google Pixel 7a is a mid-range smartphone that was unveiled at Google I/O 2023. It is positioned as the successor to the Google Pixel 6a and is available in four colors and one storage option of 128GB. The phone features a 6.1-inch OLED screen with a refresh rate of up to 90Hz and uses Google's Tensor G2 chip. The phone's camera setup includes an ultrawide sensor, Photo Unblur mode, Magic Eraser, and Real Tone for accurate skin tones in portrait mode. The Pixel 7a is one of the best smartphones for capturing portrait images and can shoot 4K resolution clips at 60fps, fully stabilized. The phone has a range of improvements across the board, from battery life to cameras to software, making it one of the most well-rounded mid-priced handsets. The Google Pixel 7a is available for $499 / £449 / AU$749 and is a worthy recipient of the Best Buy award.\n",
      "The Pixel 7A is a more affordable option compared to the Pixel 7, but it still has many of the same features. However, it only promises three generations of Android OS updates, while Samsung pledges four generations. Lisa Eadicicco, a senior editor for CNET, covers mobile devices and has been writing about technology for almost a decade. She previously worked as a senior tech correspondent at Insider, a tech columnist for Time Magazine, and a staff writer for Laptop Mag and Tom's Guide.\n",
      "Google has launched the Pixel 7A, a new entry-level phone that includes many of the same benefits as the flagship Pixel 7 at a lower price of $499. The Pixel 7A features a 90Hz screen, wireless charging, and face unlock, which were lacking in the Pixel 6A. It also has the same Tensor G2 processor as the Pixel 7, a new 64-megapixel main camera, and a 6.1-inch screen. The Pixel 7A borrows design cues from its pricier predecessor, including the camera bar with a matte metallic finish. It is available in white, black, light blue, or bright orange, while the Pixel 7 comes in white, light yellow, or black. The Pixel 7A is attractive for a phone in this price range and can make the buying decision more complicated for those shopping for a new Pixel device.\n",
      "Unfortunately, there is no article provided to summarize. Please provide the article for me to summarize.\n",
      "The Google Pixel 7a is a mid-range phone that offers flagship features at a lower price point. It has a similar design to other Pixel 7 phones, with a camera bar across the back and comes in four colors. The phone has an IP67 rating, making it safe from dust and water damage. The OLED screen has a Full HD+ resolution and a 90Hz refresh rate, with a fingerprint sensor and face unlock. The phone is powered by the Tensor G2 chipset, with 8GB of RAM and 128GB of storage. The camera has a new 64Mp main camera, a 13Mp ultrawide, and a 13Mp selfie camera. The phone also includes wireless charging and supports 18W wired charging over USB-C. It runs on Android 13 and will receive three major OS updates and five years of security patches. Overall, the Pixel 7a is a great mid-range phone with no equal.\n",
      "The article provides a review of the Google Pixel 7a, a mid-range smartphone that offers impressive features and specifications at an affordable price point. The phone boasts a sleek and modern design with a 6.2-inch OLED display, a Qualcomm Snapdragon 778G chipset, and 6GB of RAM. The standout feature of the Pixel series, its camera performance, is also present in the 7a, with a dual-camera setup on the rear that produces stunning photos and supports 4K video recording. The device is equipped with a 4,800mAh battery that offers all-day usage and supports fast charging. The only downside is that heavy users may need to charge the phone mid-way through the day. At $499, the Pixel 7a is reasonably priced, and with its impressive specs, it has essentially killed any reason to buy the regular Pixel 7.\n",
      "The author of this article has been using the Pixel 7 phone for two weeks and has found it to be a polished smartphone experience, unlike previous Pixel models that had quality control issues. The Pixel 7 features a horizontal camera bar design that looks futuristic yet warm and inviting, and the phone feels and looks like a premium, high-end smartphone despite being $400-500 less than other flagship phones. The author also compared the camera quality of the Pixel 7a and Pixel 7 Pro and found that while there is a difference, it is not significant enough to justify spending $400 more on the Pro model. Overall, the Pixel 7 takes pretty solid pictures and Google has managed to tune image sensors to produce good-looking photos.\n",
      "The Google Pixel 7 smartphone boasts impressive camera capabilities, with a 50MP main camera and a 12MP ultra-wide lens that deliver detailed, colourful, accurate and contrasty shots. The front-facing camera has also been upgraded to a higher resolution, which selfie fans will appreciate. Google has improved its \"Face Unblur\" feature to an overall \"Photo Unblur\" feature that can rescue ruined shots from any camera, and the new Tensor G2 chip in the Pixel 7 enables faster performance for low-light photos and better on-device speech recognition. Battery life is also improved, and the in-display fingerprint reader has been fixed. However, the new \"bokeh\" video mode still needs improvement as it struggles with subject detection and tracking. Overall, the Pixel 7 is a solid upgrade from the Pixel 6, with impressive camera capabilities and quality-of-life improvements.\n",
      "The Google Pixel 7a has been launched in India with a price tag of Rs 43,999, the same as its predecessor, the Pixel 6a. The Pixel 7a features a 6.1-inch OLED display with a 90Hz refresh rate, a Google Tensor G2 chip, and a dual rear camera with a 64MP primary lens and a 13MP ultra-wide lens. The phone also includes wireless charging and extra RAM. The design of the Pixel 7a stays faithful to the chic Pixel template, with a plastic back and a refined aluminum frame that can pass off for glass. The phone is almost 10% heavier than its predecessor and almost the same heft as the Pixel 7 despite a similar battery size. The Pixel 7a is one of the best smartphones you can buy under Rs 45,000, with a stellar camera, elegant design, dependable battery, and pureplay Google experience that seamlessly integrates the hardware and the best of Google smarts.\n",
      "The Google Pixel 7a has a 6.1-inch display, which is the same size as the Google Pixel 6a, making it easy to fit in a pocket and hold with one hand. However, for tasks such as editing a Google Doc or watching a movie, a larger display like that of the Google Pixel 7 Pro or Samsung Galaxy S23 Ultra is preferred. The phone has a dual-SIM card slot, two speakers, and supports fast USB charging and Qi wireless charging. It comes in four casing colors and has a supple, gently textured case design. The phone runs on Google's pure version of Android and has AI-assisted features for personalization and customization. The Recorder app's ability to transcribe is useful, but the camera app's suggestions are a mixed bag. The phone has a 5-year guarantee for security and operating system updates, and comes with a free 3-month trial subscription to YouTube Premium and Google One. The display has a resolution of 2,400 x 1,080 pixels and a refresh rate of up to 90Hz.```\n",
      "PODCAST SCRIPT\n",
      "\u001b[0m\n"
     ]
    },
    {
     "name": "stderr",
     "output_type": "stream",
     "text": [
      "Retrying langchain.chat_models.openai.ChatOpenAI.completion_with_retry.<locals>._completion_with_retry in 1.0 seconds as it raised Timeout: Request timed out: HTTPSConnectionPool(host='api.openai.com', port=443): Read timed out. (read timeout=120.0).\n",
      "Retrying langchain.chat_models.openai.ChatOpenAI.completion_with_retry.<locals>._completion_with_retry in 2.0 seconds as it raised Timeout: Request timed out: HTTPSConnectionPool(host='api.openai.com', port=443): Read timed out. (read timeout=120.0).\n",
      "Retrying langchain.chat_models.openai.ChatOpenAI.completion_with_retry.<locals>._completion_with_retry in 4.0 seconds as it raised Timeout: Request timed out: HTTPSConnectionPool(host='api.openai.com', port=443): Read timed out. (read timeout=120.0).\n",
      "Retrying langchain.chat_models.openai.ChatOpenAI.completion_with_retry.<locals>._completion_with_retry in 8.0 seconds as it raised Timeout: Request timed out: HTTPSConnectionPool(host='api.openai.com', port=443): Read timed out. (read timeout=120.0).\n",
      "Retrying langchain.chat_models.openai.ChatOpenAI.completion_with_retry.<locals>._completion_with_retry in 16.0 seconds as it raised Timeout: Request timed out: HTTPSConnectionPool(host='api.openai.com', port=443): Read timed out. (read timeout=120.0).\n"
     ]
    },
    {
     "name": "stdout",
     "output_type": "stream",
     "text": [
      "\n",
      "\u001b[1m> Finished chain.\u001b[0m\n",
      "\n",
      "\u001b[1m> Finished chain.\u001b[0m\n"
     ]
    }
   ],
   "source": [
    "output4 = reduce_chain.run([summaries])"
   ]
  },
  {
   "cell_type": "code",
   "execution_count": 75,
   "metadata": {},
   "outputs": [
    {
     "name": "stdout",
     "output_type": "stream",
     "text": [
      "Welcome to the Stratechery podcast, where we dive deep into the world of technology and analyze the latest trends and products. I'm your host, and today we'll be discussing the recent launch of Google's Pixel 7a, comparing it to its competition, and exploring Google's strategy with their phones. Let's get started.\n",
      "\n",
      "Google unveiled the Pixel 7a at Google I/O 2023, a mid-range smartphone that offers flagship features at a lower price point. The phone boasts a 6.1-inch OLED display with a 90Hz refresh rate, Google's Tensor G2 chip, and an impressive camera setup, including a 64MP main sensor and a 13MP ultrawide lens. Priced at $499, the Pixel 7a is set to compete with the likes of the iPhone SE 2022 and Samsung Galaxy A54 5G.\n",
      "\n",
      "Positive comments from other articles highlight the Pixel 7a's camera capabilities, which are incredibly capable due to the Tensor G2-powered AI prowess. The phone's design has also been praised for its sleek and modern look, staying faithful to the chic Pixel template.\n",
      "\n",
      "However, there are some negative aspects to consider. The Pixel 7a's battery life has been criticized for draining quickly, even with light to medium use. Additionally, the phone's charging speeds are relatively slow, taking two hours to charge from 0 to 100% with Google's own 30W USB-C wall adapter.\n",
      "\n",
      "When comparing the Pixel 7a to its competition, the iPhone SE 2022 is noted for producing impressive photos despite its lone rear camera and powerful chipset. On the other hand, the Samsung Galaxy A54 5G offers a bigger and smoother display and an extra camera, but Google's software and processor could make the Pixel 7a the better phone overall.\n",
      "\n",
      "Google's strategy with the Pixel 7a seems to be focused on offering a more affordable option with flagship features, making it an attractive choice for those who want the best of Google in a compact size. However, it's worth noting that the Pixel 7a only promises three generations of Android OS updates, while Samsung pledges four generations.\n",
      "\n",
      "In conclusion, the Google Pixel 7a is a well-rounded mid-range smartphone that offers impressive features at an affordable price point. While it may not be a significant upgrade from the Pixel 6a, it is a lucrative and appealing offer for those coming from an older Pixel model or looking for a solid mid-range phone. As always, it's essential for buyers to consider their personal preferences and needs when choosing between the Pixel 7a and its competitors.\n",
      "\n",
      "That's it for today's episode of the Stratechery podcast. Thank you for joining us, and be sure to tune in next time for more insightful discussions on the latest tech trends and products.\n"
     ]
    }
   ],
   "source": [
    "print (output4)"
   ]
  },
  {
   "cell_type": "code",
   "execution_count": null,
   "metadata": {},
   "outputs": [],
   "source": []
  }
 ],
 "metadata": {
  "kernelspec": {
   "display_name": "venv",
   "language": "python",
   "name": "python3"
  },
  "language_info": {
   "codemirror_mode": {
    "name": "ipython",
    "version": 3
   },
   "file_extension": ".py",
   "mimetype": "text/x-python",
   "name": "python",
   "nbconvert_exporter": "python",
   "pygments_lexer": "ipython3",
   "version": "3.8.10"
  },
  "orig_nbformat": 4
 },
 "nbformat": 4,
 "nbformat_minor": 2
}
